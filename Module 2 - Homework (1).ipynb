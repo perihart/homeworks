{
 "cells": [
  {
   "cell_type": "markdown",
   "id": "c209b646",
   "metadata": {},
   "source": [
    "### Homework #2"
   ]
  },
  {
   "cell_type": "markdown",
   "id": "869ebfd6",
   "metadata": {},
   "source": [
    "1. Round 4.5667 to the nearest hundreth (2 decimals) using a build-in function, round()."
   ]
  },
  {
   "cell_type": "code",
   "execution_count": 1,
   "id": "123658aa",
   "metadata": {},
   "outputs": [
    {
     "data": {
      "text/plain": [
       "4.57"
      ]
     },
     "execution_count": 1,
     "metadata": {},
     "output_type": "execute_result"
    }
   ],
   "source": [
    "round(4.5667,2)"
   ]
  },
  {
   "cell_type": "markdown",
   "id": "9d3f352c",
   "metadata": {},
   "source": [
    "2. Convert \"657\" to an integer data type"
   ]
  },
  {
   "cell_type": "code",
   "execution_count": 3,
   "id": "d5a67683",
   "metadata": {},
   "outputs": [
    {
     "data": {
      "text/plain": [
       "int"
      ]
     },
     "execution_count": 3,
     "metadata": {},
     "output_type": "execute_result"
    }
   ],
   "source": [
    "x = \"657\"\n",
    "type(int(\"657\"))\n"
   ]
  },
  {
   "cell_type": "markdown",
   "id": "a36f06d4",
   "metadata": {},
   "source": [
    "3. Write a program to get two numbers from a user. Then, create a 6-digit code that is a series of randomly generated numbers between the two numbers given by the user. Print the 6-digit code so all digits are separated by a dash. "
   ]
  },
  {
   "cell_type": "code",
   "execution_count": 7,
   "id": "021c92d4",
   "metadata": {},
   "outputs": [
    {
     "name": "stdout",
     "output_type": "stream",
     "text": [
      "enter number 11\n",
      "enter number 26\n",
      "6-1-3-3-1-1\n"
     ]
    }
   ],
   "source": [
    "numb1 = int(input(\"enter number 1\"))\n",
    "numb2 = int(input(\"enter number 2\"))\n",
    "import random\n",
    "numb3 = random.randint(numb1,numb2)\n",
    "numb4 = random.randint(numb1,numb2)\n",
    "numb5 = random.randint(numb1,numb2)\n",
    "numb6 = random.randint(numb1,numb2)\n",
    "numb7 = random.randint(numb1,numb2)\n",
    "numb8 = random.randint(numb1,numb2)\n",
    "print(numb3,numb4,numb5,numb6,numb7,numb8, sep = \"-\")"
   ]
  },
  {
   "cell_type": "markdown",
   "id": "ee1441a1",
   "metadata": {},
   "source": [
    "4. Write a program to remove ALL the white spaces from the following text:\n",
    "\n",
    "        Hickory, dickory, dock,     \n",
    "        The mouse ran up the clock.   \n",
    "        The clock struck one,   \n",
    "        The mouse ran down,                      \n",
    "        Hickory, dickory, dock                  "
   ]
  },
  {
   "cell_type": "code",
   "execution_count": 24,
   "id": "8bf680f1",
   "metadata": {},
   "outputs": [],
   "source": [
    "message = \" Hickory, dickory, dock,     The mouse ran up the clock.   The clock struck one,   The mouse ran down,                      Hickory, dickory, dock                  \""
   ]
  },
  {
   "cell_type": "code",
   "execution_count": 25,
   "id": "59d9c718",
   "metadata": {},
   "outputs": [
    {
     "data": {
      "text/plain": [
       "'Hickory,dickory,dock,Themouseranuptheclock.Theclockstruckone,Themouserandown,Hickory,dickory,dock'"
      ]
     },
     "execution_count": 25,
     "metadata": {},
     "output_type": "execute_result"
    }
   ],
   "source": [
    "message.strip()\n",
    "message.replace(\" \",\"\")"
   ]
  },
  {
   "cell_type": "code",
   "execution_count": null,
   "id": "11c24618",
   "metadata": {},
   "outputs": [],
   "source": []
  },
  {
   "cell_type": "markdown",
   "id": "72d87b5b",
   "metadata": {},
   "source": [
    "5. Write a function to calculate the miles per gallon. Get a miles driven and gallons used from a user and call your function to calculate the miles per gallon."
   ]
  },
  {
   "cell_type": "code",
   "execution_count": 43,
   "id": "27be7372",
   "metadata": {},
   "outputs": [
    {
     "name": "stdout",
     "output_type": "stream",
     "text": [
      "enter miles22\n",
      "enter gallons23\n"
     ]
    },
    {
     "data": {
      "text/plain": [
       "0.9565217391304348"
      ]
     },
     "execution_count": 43,
     "metadata": {},
     "output_type": "execute_result"
    }
   ],
   "source": [
    "miles = int(input(\"enter miles\"))\n",
    "gallons = int(input(\"enter gallons\"))\n",
    "def mpg (miles,gallons):\n",
    "    return miles/gallons\n",
    "mpg(miles,gallons)"
   ]
  },
  {
   "cell_type": "markdown",
   "id": "1f3942b8",
   "metadata": {},
   "source": [
    "6. Enhance the <b>compute()</b> function created during Module 2. Enhance the function to compute a circle's area and circumference where:\n",
    "\n",
    " - circle's area = 3.14 X (radius X radius)   \n",
    " - circle's circumference = 3.14 X diameter"
   ]
  },
  {
   "cell_type": "code",
   "execution_count": 51,
   "id": "df43daca",
   "metadata": {},
   "outputs": [
    {
     "name": "stdout",
     "output_type": "stream",
     "text": [
      "area= 78.5\n",
      "circumference= 31.400000000000002\n"
     ]
    }
   ],
   "source": [
    "def compute(r):\n",
    "    \n",
    "    a = 3.14 * (r * r)\n",
    "    c = 3.14 * (r + r)\n",
    "    print(f\"area= {a}\")\n",
    "    print(f\"circumference= {c}\")\n",
    "compute(5)"
   ]
  },
  {
   "cell_type": "code",
   "execution_count": null,
   "id": "fa8de89a",
   "metadata": {},
   "outputs": [],
   "source": []
  },
  {
   "cell_type": "markdown",
   "id": "4c5d83bb",
   "metadata": {},
   "source": [
    "7. Write a function called multiply_two() that accepts two parameters. The function should print a message like '15 * 2 = 30'.  Randomly generate two numbers between 1 and 100, then call the function with the two random numbers."
   ]
  },
  {
   "cell_type": "code",
   "execution_count": 55,
   "id": "fe5ca2dc",
   "metadata": {},
   "outputs": [
    {
     "name": "stdout",
     "output_type": "stream",
     "text": [
      "enter number 13\n",
      "enter number 26\n"
     ]
    },
    {
     "data": {
      "text/plain": [
       "18"
      ]
     },
     "execution_count": 55,
     "metadata": {},
     "output_type": "execute_result"
    }
   ],
   "source": [
    "def multiply_two(x,y) :\n",
    "    z = x* y\n",
    "    return z\n",
    "x = int(input(\"enter number 1\"))\n",
    "y = int(input(\"enter number 2\"))\n",
    "multiply_two(x,y)"
   ]
  },
  {
   "cell_type": "code",
   "execution_count": null,
   "id": "9f83774c",
   "metadata": {},
   "outputs": [],
   "source": []
  },
  {
   "cell_type": "markdown",
   "id": "36865477",
   "metadata": {},
   "source": [
    "8. Create a function for a multiplication table.  Get a number from a user and then call you function which produces a multiplication table for that number.\n",
    "The output should look something like this:\n",
    "\n",
    "        Enter a number: 3\n",
    "        3 X 1 = 3\n",
    "        3 X 2 = 6\n",
    "        3 X 3 = 9\n",
    "        3 X 4 = 12\n",
    "        3 X 5 = 15\n",
    "        3 X 6 = 18\n",
    "        3 X 7 = 21\n",
    "        3 X 8 = 24\n",
    "        3 X 9 = 27"
   ]
  },
  {
   "cell_type": "code",
   "execution_count": 61,
   "id": "b023e863",
   "metadata": {},
   "outputs": [
    {
     "name": "stdout",
     "output_type": "stream",
     "text": [
      "enter number: 6\n",
      "6 X 1 = 6\n",
      "6 X 2 = 12\n",
      "6 X 3 = 18\n",
      "6 X 4 = 24\n",
      "6 X 5 = 30\n",
      "6 X 6 = 36\n",
      "6 X 7 = 42\n",
      "6 X 8 = 48\n",
      "6 X 9 = 54\n"
     ]
    }
   ],
   "source": [
    "def multi (x):\n",
    "    a = x * 1\n",
    "    b = x * 2\n",
    "    c = x * 3\n",
    "    d = x * 4\n",
    "    e = x * 5\n",
    "    f = x * 6\n",
    "    g = x * 7\n",
    "    h = x * 8\n",
    "    i = x * 9\n",
    "    print(f\"{x} X 1 = {a}\")\n",
    "    print(f\"{x} X 2 = {b}\")\n",
    "    print(f\"{x} X 3 = {c}\")\n",
    "    print(f\"{x} X 4 = {d}\")\n",
    "    print(f\"{x} X 5 = {e}\")\n",
    "    print(f\"{x} X 6 = {f}\")\n",
    "    print(f\"{x} X 7 = {g}\")\n",
    "    print(f\"{x} X 8 = {h}\")\n",
    "    print(f\"{x} X 9 = {i}\")\n",
    "x = int(input(\"enter number: \"))\n",
    "multi(x)"
   ]
  },
  {
   "cell_type": "code",
   "execution_count": null,
   "id": "563c8445",
   "metadata": {},
   "outputs": [],
   "source": []
  }
 ],
 "metadata": {
  "kernelspec": {
   "display_name": "Python 3 (ipykernel)",
   "language": "python",
   "name": "python3"
  },
  "language_info": {
   "codemirror_mode": {
    "name": "ipython",
    "version": 3
   },
   "file_extension": ".py",
   "mimetype": "text/x-python",
   "name": "python",
   "nbconvert_exporter": "python",
   "pygments_lexer": "ipython3",
   "version": "3.9.7"
  }
 },
 "nbformat": 4,
 "nbformat_minor": 5
}
