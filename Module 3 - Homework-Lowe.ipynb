{
 "cells": [
  {
   "cell_type": "markdown",
   "metadata": {},
   "source": [
    "### Exercise 1\n",
    "Ask a user for 5 names and place each one in to a list called <i>names</i>. Then, print <i>names</i>."
   ]
  },
  {
   "cell_type": "code",
   "execution_count": 1,
   "metadata": {},
   "outputs": [
    {
     "name": "stdout",
     "output_type": "stream",
     "text": [
      "enter name 1peregrine\n",
      "enter name 2peri\n",
      "enter name 3hart\n",
      "enter name 4unger\n",
      "enter name 5lowe\n",
      "['peregrine', 'peri', 'hart', 'unger', 'lowe']\n"
     ]
    }
   ],
   "source": [
    "name1 = input(\"enter name 1\")\n",
    "name2 = input(\"enter name 2\")\n",
    "name3 = input(\"enter name 3\")\n",
    "name4 = input(\"enter name 4\")\n",
    "name5 = input(\"enter name 5\")\n",
    "names = [name1, name2, name3, name4, name5]\n",
    "print(names)"
   ]
  },
  {
   "cell_type": "markdown",
   "metadata": {},
   "source": [
    "### Exercise 2\n",
    "Print out a randomly selected name in the names list."
   ]
  },
  {
   "cell_type": "code",
   "execution_count": 3,
   "metadata": {},
   "outputs": [
    {
     "name": "stdout",
     "output_type": "stream",
     "text": [
      "peri\n"
     ]
    }
   ],
   "source": [
    "import random as rand\n",
    "x = rand.randint(0,4)\n",
    "print(names[x])"
   ]
  },
  {
   "cell_type": "markdown",
   "metadata": {},
   "source": [
    "### Exercise 3\n",
    "\n",
    "Ask a user for a specific color and store that value into a variable. If the answer is gray, print \"You found Victor's favorite color!\". If the answer is anything besides gray, print \"[color name] is not Victor's favorite color.\""
   ]
  },
  {
   "cell_type": "code",
   "execution_count": 5,
   "metadata": {},
   "outputs": [
    {
     "name": "stdout",
     "output_type": "stream",
     "text": [
      "give a colorgray\n",
      "You found Victor's favorite color!\n"
     ]
    }
   ],
   "source": [
    "color = input(\"give a color\")\n",
    "\n",
    "if color == \"gray\":\n",
    "    print(\"You found Victor's favorite color!\")\n",
    "else:\n",
    "    print(\"{color} is not Victor's favorite color.\")"
   ]
  },
  {
   "cell_type": "markdown",
   "metadata": {},
   "source": [
    "### Exercise 4\n",
    "Ask for an exam score and store that number. If the number is greater than 100, then print out 'You cannot have an exam score higher than 100'. If the number doesn't exceeed 100 but is greater than or equal to 75, then print out 'You did great on your exam!'. Otherwise if they scored lower than 75, then print out 'You need to study harder'."
   ]
  },
  {
   "cell_type": "code",
   "execution_count": 7,
   "metadata": {},
   "outputs": [
    {
     "name": "stdout",
     "output_type": "stream",
     "text": [
      "give your score100\n",
      "You did great on your exam!\n"
     ]
    }
   ],
   "source": [
    "score = int(input(\"give your score\"))\n",
    "if score > 100:\n",
    "    print(\"You cannot have an exam score higher than 100\")\n",
    "    \n",
    "elif score >= 75:\n",
    "    print(\"You did great on your exam!\")\n",
    "else:\n",
    "    print(\"You need to study harder\")"
   ]
  },
  {
   "cell_type": "markdown",
   "metadata": {},
   "source": [
    "### Exercise 5\n",
    "Write a function to convert a test score to a grade where  \n",
    " - 90 - 100: A\n",
    " - 80 - 89:  B\n",
    " - 70 - 79:  C\n",
    " - 60 - 69:  D\n",
    " - < 60   :  F\n",
    " \n",
    "If a score is not between 0 and 100 then print out an error message. In the program, ask the user for a score and then call your function. "
   ]
  },
  {
   "cell_type": "code",
   "execution_count": 12,
   "metadata": {},
   "outputs": [
    {
     "name": "stdout",
     "output_type": "stream",
     "text": [
      "give your score55\n",
      "F\n"
     ]
    }
   ],
   "source": [
    "def grading (score2):\n",
    "    if score2 > 100:\n",
    "        print(\"error\")\n",
    "    elif score2 > 90:\n",
    "        print(\"A\")\n",
    "    elif score2 > 80:\n",
    "        print(\"B\")\n",
    "    elif score2 > 70:\n",
    "        print(\"C\")\n",
    "    elif score2 > 60:\n",
    "        print(\"D\")\n",
    "    elif score2 >= 0:\n",
    "        print(\"F\")\n",
    "    else:\n",
    "        print(\"error\")\n",
    "score2 = int(input(\"give your score\"))\n",
    "grading(score2)"
   ]
  },
  {
   "cell_type": "code",
   "execution_count": null,
   "metadata": {},
   "outputs": [],
   "source": []
  }
 ],
 "metadata": {
  "kernelspec": {
   "display_name": "Python 3 (ipykernel)",
   "language": "python",
   "name": "python3"
  },
  "language_info": {
   "codemirror_mode": {
    "name": "ipython",
    "version": 3
   },
   "file_extension": ".py",
   "mimetype": "text/x-python",
   "name": "python",
   "nbconvert_exporter": "python",
   "pygments_lexer": "ipython3",
   "version": "3.9.7"
  }
 },
 "nbformat": 4,
 "nbformat_minor": 4
}
